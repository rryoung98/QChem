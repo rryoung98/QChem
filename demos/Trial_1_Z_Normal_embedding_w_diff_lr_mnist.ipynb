{
  "cells": [
    {
      "cell_type": "markdown",
      "metadata": {
        "id": "xLOXFOT5Q40E"
      },
      "source": [
        "##### Copyright 2020 The TensorFlow Authors."
      ]
    },
    {
      "cell_type": "code",
      "execution_count": null,
      "metadata": {
        "cellView": "form",
        "id": "iiQkM5ZgQ8r2"
      },
      "outputs": [],
      "source": [
        "#@title Licensed under the Apache License, Version 2.0 (the \"License\");\n",
        "# you may not use this file except in compliance with the License.\n",
        "# You may obtain a copy of the License at\n",
        "#\n",
        "# https://www.apache.org/licenses/LICENSE-2.0\n",
        "#\n",
        "# Unless required by applicable law or agreed to in writing, software\n",
        "# distributed under the License is distributed on an \"AS IS\" BASIS,\n",
        "# WITHOUT WARRANTIES OR CONDITIONS OF ANY KIND, either express or implied.\n",
        "# See the License for the specific language governing permissions and\n",
        "# limitations under the License."
      ]
    },
    {
      "cell_type": "markdown",
      "metadata": {
        "id": "j6331ZSsQGY3"
      },
      "source": [
        "# MNIST classification"
      ]
    },
    {
      "cell_type": "markdown",
      "metadata": {
        "id": "i9Jcnb8bQQyd"
      },
      "source": [
        "<table class=\"tfo-notebook-buttons\" align=\"left\">\n",
        "  <td>\n",
        "    <a target=\"_blank\" href=\"https://www.tensorflow.org/quantum/tutorials/mnist\"><img src=\"https://www.tensorflow.org/images/tf_logo_32px.png\" />View on TensorFlow.org</a>\n",
        "  </td>\n",
        "  <td>\n",
        "    <a target=\"_blank\" href=\"https://colab.research.google.com/github/tensorflow/quantum/blob/master/docs/tutorials/mnist.ipynb\"><img src=\"https://www.tensorflow.org/images/colab_logo_32px.png\" />Run in Google Colab</a>\n",
        "  </td>\n",
        "  <td>\n",
        "    <a target=\"_blank\" href=\"https://github.com/tensorflow/quantum/blob/master/docs/tutorials/mnist.ipynb\"><img src=\"https://www.tensorflow.org/images/GitHub-Mark-32px.png\" />View source on GitHub</a>\n",
        "  </td>\n",
        "  <td>\n",
        "    <a href=\"https://storage.googleapis.com/tensorflow_docs/quantum/docs/tutorials/mnist.ipynb\"><img src=\"https://www.tensorflow.org/images/download_logo_32px.png\" />Download notebook</a>\n",
        "  </td>\n",
        "</table>"
      ]
    },
    {
      "cell_type": "markdown",
      "metadata": {
        "id": "udLObUVeGfTs"
      },
      "source": [
        "This tutorial builds a quantum neural network (QNN) to classify a simplified version of MNIST, similar to the approach used in <a href=\"https://arxiv.org/pdf/1802.06002.pdf\" class=\"external\">Farhi et al</a>. The performance of the quantum neural network on this classical data problem is compared with a classical neural network."
      ]
    },
    {
      "cell_type": "markdown",
      "metadata": {
        "id": "X35qHdh5Gzqg"
      },
      "source": [
        "## Setup"
      ]
    },
    {
      "cell_type": "code",
      "execution_count": null,
      "metadata": {
        "id": "TorxE5tnkvb2"
      },
      "outputs": [],
      "source": [
        "!pip install tensorflow==2.7.0\n",
        "!pip install scikit-image\n",
        "!pip install opencv-python\n",
        "!pip install imutils"
      ]
    },
    {
      "cell_type": "markdown",
      "metadata": {
        "id": "FxkQA6oblNqI"
      },
      "source": [
        "Install TensorFlow Quantum:"
      ]
    },
    {
      "cell_type": "code",
      "execution_count": null,
      "metadata": {
        "id": "saFHsRDpkvkH"
      },
      "outputs": [],
      "source": [
        "!pip install tensorflow-quantum\n",
        "!pip install scikit-plot"
      ]
    },
    {
      "cell_type": "code",
      "execution_count": null,
      "metadata": {
        "id": "4Ql5PW-ACO0J"
      },
      "outputs": [],
      "source": [
        "# Update package resources to account for version changes.\n",
        "import importlib, pkg_resources\n",
        "importlib.reload(pkg_resources)\n",
        "import skimage.measure\n",
        "from scikitplot.metrics import plot_confusion_matrix"
      ]
    },
    {
      "cell_type": "markdown",
      "metadata": {
        "id": "hdgMMZEBGqyl"
      },
      "source": [
        "Now import TensorFlow and the module dependencies:"
      ]
    },
    {
      "cell_type": "code",
      "execution_count": null,
      "metadata": {
        "id": "enZ300Bflq80"
      },
      "outputs": [],
      "source": [
        "import tensorflow as tf\n",
        "import tensorflow_quantum as tfq\n",
        "\n",
        "from scipy.ndimage import interpolation\n",
        "import datetime\n",
        "import cirq\n",
        "import sympy\n",
        "import numpy as np\n",
        "import seaborn as sns\n",
        "import collections\n",
        "\n",
        "# visualization tools\n",
        "import matplotlib.pyplot as plt\n",
        "from cirq.contrib.svg import SVGCircuit\n",
        "import collections\n",
        "import cv2\n",
        "import imutils\n",
        "import matplotlib.pyplot as plt\n",
        "import tensorflow as tf\n",
        "from skimage.measure import block_reduce\n",
        "tf.random.set_seed(10)\n",
        "np.random.seed(10)\n",
        "%matplotlib inline\n",
        "# CONSTANTS\n",
        "NUM_EXAMPLES=500\n",
        "(x_train, y_train), (x_test, y_test) = tf.keras.datasets.mnist.load_data()\n",
        "def plot_image(image):\n",
        "  \"\"\"Render image in jupyter notebook from numpy array.\"\"\"\n",
        "  plt.figure(figsize = (50, 15))\n",
        "  plt.imshow(image)\n",
        "  plt.show()"
      ]
    },
    {
      "cell_type": "code",
      "source": [
        "# define the dictionary of digit segments so we can identify\n",
        "# each digit on the thermostat\n",
        "DIGITS_LOOKUP = {(1, 1, 1, 0, 1, 1, 1): 0,\n",
        "                 (0, 0, 1, 0, 0, 1, 0): 1,\n",
        "                 (1, 0, 1, 1, 1, 1, 0): 2,\n",
        "                 (1, 0, 1, 1, 0, 1, 1): 3,\n",
        "                 (0, 1, 1, 1, 0, 1, 0): 4,\n",
        "                 (1, 1, 0, 1, 0, 1, 1): 5,\n",
        "                 (1, 1, 0, 1, 1, 1, 1): 6,\n",
        "                 (1, 0, 1, 0, 0, 1, 0): 7,\n",
        "                 (1, 1, 1, 1, 1, 1, 1): 8,\n",
        "                 (1, 1, 1, 1, 0, 1, 1): 9\n",
        "                }\n",
        "\n",
        "# list out keys and values separately\n",
        "key_list = list(DIGITS_LOOKUP.keys())\n",
        "val_list = list(DIGITS_LOOKUP.values())\n",
        "x_segment_train = []\n",
        "x_segment_test = []\n",
        "for num in y_train:\n",
        "  segment_num = np.asarray(list(key_list[val_list.index(num)]))\n",
        "  x_segment_train.append(segment_num)\n",
        "for num in y_test: \n",
        "  segment_num = np.asarray(list(key_list[val_list.index(num)]))\n",
        "  x_segment_test.append(segment_num)\n"
      ],
      "metadata": {
        "id": "NNeAnaJz6au1"
      },
      "execution_count": null,
      "outputs": []
    },
    {
      "cell_type": "markdown",
      "metadata": {
        "id": "b08Mmbs8lr81"
      },
      "source": [
        "## 1. Load the data\n",
        "\n",
        "In this tutorial you will build a binary classifier to distinguish between the digits 3 and 6, following <a href=\"https://arxiv.org/pdf/1802.06002.pdf\" class=\"external\">Farhi et al.</a> This section covers the data handling that:\n",
        "\n",
        "- Loads the raw data from Keras.\n",
        "- Filters the dataset to only 3s and 6s.\n",
        "- Downscales the images so they fit can fit in a quantum computer.\n",
        "- Removes any contradictory examples.\n",
        "- Converts the binary images to Cirq circuits.\n",
        "- Converts the Cirq circuits to TensorFlow Quantum circuits. "
      ]
    },
    {
      "cell_type": "markdown",
      "metadata": {
        "id": "pDUdGxn-ojgy"
      },
      "source": [
        "### 1.1 Load the raw data"
      ]
    },
    {
      "cell_type": "markdown",
      "metadata": {
        "id": "xZyGXlaKojgz"
      },
      "source": [
        "Load the MNIST dataset distributed with Keras. "
      ]
    },
    {
      "cell_type": "code",
      "execution_count": null,
      "metadata": {
        "id": "d9OSExvCojg0"
      },
      "outputs": [],
      "source": [
        "# (x_train, y_train), (x_test, y_test) = tf.keras.datasets.mnist.load_data()\n",
        "\n",
        "# # Rescale the images from [0,255] to the [0.0,1.0] range.\n",
        "x_train, x_test = x_train[..., np.newaxis]/255.0, x_test[..., np.newaxis]/255.0\n",
        "\n",
        "# print(\"Number of original training examples:\", len(x_train))\n",
        "# print(\"Number of original test examples:\", len(x_test))"
      ]
    },
    {
      "cell_type": "markdown",
      "metadata": {
        "id": "fZpbygdGojg3"
      },
      "source": [
        "Filter the dataset to keep just the 3s and 6s,  remove the other classes. At the same time convert the label, `y`, to boolean: `True` for `3` and `False` for 6. "
      ]
    },
    {
      "cell_type": "code",
      "execution_count": null,
      "metadata": {
        "id": "hOw68cCZojg4"
      },
      "outputs": [],
      "source": [
        "# def filter_36(x, y):\n",
        "#     keep = (y == 3) | (y == 6)\n",
        "#     x, y = x[keep], y[keep]\n",
        "#     y = y == 3\n",
        "#     return x,y"
      ]
    },
    {
      "cell_type": "code",
      "execution_count": null,
      "metadata": {
        "id": "p-XEU8egGL6q"
      },
      "outputs": [],
      "source": [
        "# x_train, y_train = filter_36(x_train, y_train)\n",
        "# x_test, y_test = filter_36(x_test, y_test)\n",
        "\n",
        "# print(\"Number of filtered training examples:\", len(x_train))\n",
        "# print(\"Number of filtered test examples:\", len(x_test))"
      ]
    },
    {
      "cell_type": "code",
      "source": [
        ""
      ],
      "metadata": {
        "id": "sMdTLERQSCQP"
      },
      "execution_count": null,
      "outputs": []
    },
    {
      "cell_type": "markdown",
      "metadata": {
        "id": "3wyiaP0Xojg_"
      },
      "source": [
        "Show the first example:"
      ]
    },
    {
      "cell_type": "code",
      "execution_count": null,
      "metadata": {
        "id": "j5STP7MbojhA"
      },
      "outputs": [],
      "source": [
        "# print(y_train[0])\n",
        "\n",
        "# plt.imshow(x_train[0, :, :, 0])\n",
        "# plt.colorbar()"
      ]
    },
    {
      "cell_type": "markdown",
      "metadata": {
        "id": "wNS9sVPQojhC"
      },
      "source": [
        "### 1.2 Downscale the images"
      ]
    },
    {
      "cell_type": "markdown",
      "metadata": {
        "id": "fmmtplIFGL6t"
      },
      "source": [
        "An image size of 28x28 is much too large for current quantum computers. Resize the image down to 4x4:"
      ]
    },
    {
      "cell_type": "code",
      "execution_count": null,
      "metadata": {
        "id": "lbhUdBFWojhE",
        "scrolled": false
      },
      "outputs": [],
      "source": [
        "# x_train_small = tf.image.resize(x_train, (4,4)).numpy()\n",
        "# x_test_small = tf.image.resize(x_test, (4,4)).numpy()"
      ]
    },
    {
      "cell_type": "markdown",
      "metadata": {
        "id": "pOMd7zIjGL6x"
      },
      "source": [
        "Again, display the first training example—after resize: "
      ]
    },
    {
      "cell_type": "code",
      "execution_count": null,
      "metadata": {
        "id": "YIYOtCRIGL6y",
        "scrolled": true
      },
      "outputs": [],
      "source": [
        "# print(y_train[0])\n",
        "\n",
        "# plt.imshow(x_train_small[0,:,:,0], vmin=0, vmax=1)\n",
        "# plt.colorbar()"
      ]
    },
    {
      "cell_type": "markdown",
      "metadata": {
        "id": "gGeF1_qtojhK"
      },
      "source": [
        "### 1.3 Remove contradictory examples"
      ]
    },
    {
      "cell_type": "markdown",
      "metadata": {
        "id": "7ZLkq2yeojhL"
      },
      "source": [
        "From section *3.3 Learning to Distinguish Digits* of <a href=\"https://arxiv.org/pdf/1802.06002.pdf\" class=\"external\">Farhi et al.</a>, filter the dataset to remove images that are labeled as belonging to both classes.\n",
        "\n",
        "This is not a standard machine-learning procedure, but is included in the interest of following the paper."
      ]
    },
    {
      "cell_type": "code",
      "execution_count": null,
      "metadata": {
        "id": "LqOPW0C7ojhL"
      },
      "outputs": [],
      "source": [
        "# def remove_contradicting(xs, ys):\n",
        "#     mapping = collections.defaultdict(set)\n",
        "#     orig_x = {}\n",
        "#     # Determine the set of labels for each unique image:\n",
        "#     for x,y in zip(xs,ys):\n",
        "#        orig_x[tuple(x.flatten())] = x\n",
        "#        mapping[tuple(x.flatten())].add(y)\n",
        "    \n",
        "#     new_x = []\n",
        "#     new_y = []\n",
        "#     for flatten_x in mapping:\n",
        "#       x = orig_x[flatten_x]\n",
        "#       labels = mapping[flatten_x]\n",
        "#       if len(labels) == 1:\n",
        "#           new_x.append(x)\n",
        "#           new_y.append(next(iter(labels)))\n",
        "#       else:\n",
        "#           # Throw out images that match more than one label.\n",
        "#           pass\n",
        "    \n",
        "#     num_uniq_3 = sum(1 for value in mapping.values() if len(value) == 1 and True in value)\n",
        "#     num_uniq_6 = sum(1 for value in mapping.values() if len(value) == 1 and False in value)\n",
        "#     num_uniq_both = sum(1 for value in mapping.values() if len(value) == 2)\n",
        "\n",
        "#     print(\"Number of unique images:\", len(mapping.values()))\n",
        "#     print(\"Number of unique 3s: \", num_uniq_3)\n",
        "#     print(\"Number of unique 6s: \", num_uniq_6)\n",
        "#     print(\"Number of unique contradicting labels (both 3 and 6): \", num_uniq_both)\n",
        "#     print()\n",
        "#     print(\"Initial number of images: \", len(xs))\n",
        "#     print(\"Remaining non-contradicting unique images: \", len(new_x))\n",
        "    \n",
        "#     return np.array(new_x), np.array(new_y)"
      ]
    },
    {
      "cell_type": "markdown",
      "metadata": {
        "id": "VMOiJfz_ojhP"
      },
      "source": [
        "The resulting counts do not closely match the reported values, but the exact procedure is not specified.\n",
        "\n",
        "It is also worth noting here that applying filtering contradictory examples at this point does not totally prevent the model from receiving contradictory training examples: the next step binarizes the data which will cause more collisions. "
      ]
    },
    {
      "cell_type": "code",
      "execution_count": null,
      "metadata": {
        "id": "zpnsAssWojhP",
        "scrolled": true
      },
      "outputs": [],
      "source": [
        "#x_train_nocon, y_train_nocon = remove_contradicting(x_train_small, y_train)"
      ]
    },
    {
      "cell_type": "markdown",
      "metadata": {
        "id": "SlJ5NVaPojhT"
      },
      "source": [
        "### 1.4 Encode the data as quantum circuits\n",
        "\n",
        "To process images using a quantum computer, <a href=\"https://arxiv.org/pdf/1802.06002.pdf\" class=\"external\">Farhi et al.</a> proposed representing each pixel with a qubit, with the state depending on the value of the pixel. The first step is to convert to a binary encoding."
      ]
    },
    {
      "cell_type": "code",
      "execution_count": null,
      "metadata": {
        "id": "1z8J7OyDojhV"
      },
      "outputs": [],
      "source": [
        "THRESHOLD = 0.5\n",
        "\n",
        "# x_train_bin = np.array(x_train_nocon > THRESHOLD, dtype=np.float32)\n",
        "# x_test_bin = np.array(x_test_small > THRESHOLD, dtype=np.float32)"
      ]
    },
    {
      "cell_type": "markdown",
      "metadata": {
        "id": "SlJ5NVaPojhU"
      },
      "source": [
        "If you were to remove contradictory images at this point you would be left with only 193, likely not enough for effective training."
      ]
    },
    {
      "cell_type": "code",
      "execution_count": null,
      "metadata": {
        "id": "1z8J7OyDojhW"
      },
      "outputs": [],
      "source": [
        "def moments(image):\n",
        "    c0,c1 = np.mgrid[:image.shape[0],:image.shape[1]] # A trick in numPy to create a mesh grid\n",
        "    totalImage = np.sum(image) #sum of pixels\n",
        "    m0 = np.sum(c0*image)/totalImage #mu_x\n",
        "    m1 = np.sum(c1*image)/totalImage #mu_y\n",
        "    m00 = np.sum((c0-m0)**2*image)/totalImage #var(x)\n",
        "    m11 = np.sum((c1-m1)**2*image)/totalImage #var(y)\n",
        "    m01 = np.sum((c0-m0)*(c1-m1)*image)/totalImage #covariance(x,y)\n",
        "    mu_vector = np.array([m0,m1]) # Notice that these are \\mu_x, \\mu_y respectively\n",
        "    covariance_matrix = np.array([[m00,m01],[m01,m11]]) # Do you see a similarity between the covariance matrix\n",
        "    return mu_vector, covariance_matrix\n",
        "#Deskew the training samples \n",
        "def deskew(image):\n",
        "    c,v = moments(image)\n",
        "    alpha = v[0,1]/v[0,0]\n",
        "    affine = np.array([[1,0],[alpha,1]])\n",
        "    ocenter = np.array(image.shape)/2.0\n",
        "    offset = c-np.dot(affine,ocenter)\n",
        "    img = interpolation.affine_transform(image,affine,offset=offset)\n",
        "    return (img - img.min()) / (img.max() - img.min())\n"
      ]
    },
    {
      "cell_type": "markdown",
      "metadata": {
        "id": "oLyxS9KlojhZ"
      },
      "source": [
        "The qubits at pixel indices with values that exceed a threshold, are rotated through an $X$ gate."
      ]
    },
    {
      "cell_type": "code",
      "source": [
        "#training set \n",
        "x_train_deskew = [] \n",
        "for i in range(x_train.shape[0]): \n",
        "    x_train_deskew.append(deskew(x_train[i].reshape(28,28)))\n",
        "x_train_deskew = np.array(x_train_deskew)\n",
        "x_train_deskew = x_train_deskew[..., np.newaxis]\n",
        "print(\"shape of x_train_deskew is \" + str(np.shape(x_train_deskew)))\n",
        "print(\"type of x_train_deskew is \" + str(type(x_train_deskew)))\n",
        "\n",
        "#test set \n",
        "x_test_deskew = [] \n",
        "for j in range(x_test.shape[0]): \n",
        "    x_test_deskew.append(deskew(x_test[j].reshape(28,28)))\n",
        "x_test_deskew = np.array(x_test_deskew)\n",
        "x_test_deskew = x_test_deskew[..., np.newaxis]\n",
        "print(\"shape of x_test_deskew is \" + str(np.shape(x_test_deskew)))\n",
        "print(\"type of x_test_deskew is \" + str(type(x_test_deskew)))\n"
      ],
      "metadata": {
        "id": "56mm7zeFtZmE"
      },
      "execution_count": null,
      "outputs": []
    },
    {
      "cell_type": "code",
      "source": [
        "# Multi Average Pooling"
      ],
      "metadata": {
        "id": "FHAPlmOQuFtM"
      },
      "execution_count": null,
      "outputs": []
    },
    {
      "cell_type": "code",
      "source": [
        "plt.imshow(x_test[1].reshape(28,28))"
      ],
      "metadata": {
        "id": "0h7W0y6Ywunk"
      },
      "execution_count": null,
      "outputs": []
    },
    {
      "cell_type": "code",
      "source": [
        "test_img=x_test_deskew[10].reshape(28,28)[5:25,5:25]\n",
        "plt.imshow(x_test_deskew[10].reshape(28,28)[5:25,5:25])"
      ],
      "metadata": {
        "id": "zGHs_9zwvbC6"
      },
      "execution_count": null,
      "outputs": []
    },
    {
      "cell_type": "code",
      "source": [
        "kernel = np.array([[0, -1, 0],\n",
        "                   [-1, 5,-1],\n",
        "                   [0, -1, 0]])\n",
        "image_sharp = cv2.filter2D(src=test_img, ddepth=-1, kernel=kernel)"
      ],
      "metadata": {
        "id": "Ycgj4xXQxoj4"
      },
      "execution_count": null,
      "outputs": []
    },
    {
      "cell_type": "code",
      "source": [
        "new_image= skimage.measure.block_reduce(test_img, (2,2), np.mean)"
      ],
      "metadata": {
        "id": "MZjTyozGx2dL"
      },
      "execution_count": null,
      "outputs": []
    },
    {
      "cell_type": "code",
      "source": [
        "plt.imshow(new_image)\n",
        "len(new_image)"
      ],
      "metadata": {
        "id": "QZZkw708xv7r"
      },
      "execution_count": null,
      "outputs": []
    },
    {
      "cell_type": "code",
      "source": [
        "THRESHOLD = 0.0\n",
        "test_thresh = np.array(new_image > THRESHOLD, dtype=np.float32)"
      ],
      "metadata": {
        "id": "wUS4aB2718eR"
      },
      "execution_count": null,
      "outputs": []
    },
    {
      "cell_type": "code",
      "source": [
        "plt.imshow(test_thresh)"
      ],
      "metadata": {
        "id": "nBxm7cx62Soy"
      },
      "execution_count": null,
      "outputs": []
    },
    {
      "cell_type": "code",
      "source": [
        "test_2 = skimage.measure.block_reduce(test_thresh, (1,2), np.mean)"
      ],
      "metadata": {
        "id": "kR52Ruab2Whp"
      },
      "execution_count": null,
      "outputs": []
    },
    {
      "cell_type": "code",
      "source": [
        "test_thresh[1]\n",
        "x = test_thresh[1]/np.linalg.norm(test_thresh[1])\n",
        "theta = test_thresh[1][0:3]/np.linalg.norm(test_thresh[1][0:3])\n",
        "phi = test_thresh[1][3:6]/np.linalg.norm(test_thresh[1][3:6])\n",
        "psi = test_thresh[1][6:9]/np.linalg.norm(x)\n",
        "print(theta, phi, psi)"
      ],
      "metadata": {
        "id": "LUd-u6xIVoOO"
      },
      "execution_count": null,
      "outputs": []
    },
    {
      "cell_type": "code",
      "source": [
        "def sectioned_angle_embedding(img, sections=3):\n",
        "  section_angles = []\n",
        "  for row in img:\n",
        "    section = int(np.floor(len(row)/sections))\n",
        "    prior = None\n",
        "    angles = []\n",
        "    for i in range(sections):\n",
        "      if prior is None:\n",
        "        prior = 0\n",
        "      angle = np.mean(row[prior:prior+section])/np.pi\n",
        "      angles.append(angle)\n",
        "      prior += section\n",
        "    section_angles.append(angles)\n",
        "  return section_angles\n",
        "\n",
        "\n",
        "      #we want to get the angle values for each section between 0. and p\n",
        "x = sectioned_angle_embedding(test_thresh)\n",
        "print(x)"
      ],
      "metadata": {
        "id": "gD0i-JvdNizd"
      },
      "execution_count": null,
      "outputs": []
    },
    {
      "cell_type": "code",
      "source": [
        "test_2 = skimage.measure.block_reduce(test_thresh, (2,2), np.max)\n",
        "plt.imshow(test_2)"
      ],
      "metadata": {
        "id": "Lw92F7vvTamE"
      },
      "execution_count": null,
      "outputs": []
    },
    {
      "cell_type": "code",
      "source": [
        "test_3 = skimage.measure.block_reduce(test_2, (2,1), np.mean)\n",
        "plt.imshow(test_3)"
      ],
      "metadata": {
        "id": "rGdT2uwa2mwq"
      },
      "execution_count": null,
      "outputs": []
    },
    {
      "cell_type": "code",
      "source": [
        "\n",
        "new_image_sharpend = cv2.filter2D(src=test_2, ddepth=-5, kernel=kernel)\n",
        "plt.imshow(new_image_sharpend)"
      ],
      "metadata": {
        "id": "VJSFBYI21SIU"
      },
      "execution_count": null,
      "outputs": []
    },
    {
      "cell_type": "code",
      "source": [
        "THRESHOLD2  = 0.4\n",
        "test_final = np.array(test_3> THRESHOLD2, dtype=np.float32)\n",
        "plt.imshow(test_final)"
      ],
      "metadata": {
        "id": "tmQRQ0Q92RrJ"
      },
      "execution_count": null,
      "outputs": []
    },
    {
      "cell_type": "code",
      "source": [
        "resized = cv2.resize(test_thresh,(4,4))\n",
        "plt.imshow(resized)"
      ],
      "metadata": {
        "id": "HocAxb271YZo"
      },
      "execution_count": null,
      "outputs": []
    },
    {
      "cell_type": "code",
      "source": [
        ""
      ],
      "metadata": {
        "id": "WBNyrJf3Dr-e"
      },
      "execution_count": null,
      "outputs": []
    },
    {
      "cell_type": "code",
      "source": [
        "# CROP, AVERAGE POOL THEN THRESHOLD\n",
        "THRESHOLD =0.3\n",
        "x_train_avg = np.array([skimage.measure.block_reduce(x.reshape(28,28)[5:25,5:25], (2,2), np.mean) for x in x_train_deskew])\n",
        "x_test_avg =np.array([skimage.measure.block_reduce(x.reshape(28,28)[5:25,5:25], (2,2), np.mean) for x in x_test_deskew])\n",
        "\n",
        "x_train_deskew_bin = np.array(x_train_avg > THRESHOLD, dtype=np.float32)\n",
        "x_test_deskew_bin = np.array(x_test_avg > THRESHOLD, dtype=np.float32)\n",
        "# x_train_deskew_bin = np.array([skimage.measure.block_reduce(x.reshape(28,28)[5:25,5:25], (2,2), np.mean) for x in x_train_deskew])\n",
        "# x_test_deskew_bin  =np.array([skimage.measure.block_reduce(x.reshape(28,28)[5:25,5:25], (2,2), np.mean) for x in x_test_deskew])"
      ],
      "metadata": {
        "id": "nbGZSnxzDf8v"
      },
      "execution_count": null,
      "outputs": []
    },
    {
      "cell_type": "markdown",
      "source": [
        ""
      ],
      "metadata": {
        "id": "uCqORiFxctkC"
      }
    },
    {
      "cell_type": "code",
      "source": [
        "x = 3336\n",
        "plt.imshow(x_train_deskew_bin[0])\n",
        "print(y_train[x])"
      ],
      "metadata": {
        "id": "d3YF7fEzcIuH"
      },
      "execution_count": null,
      "outputs": []
    },
    {
      "cell_type": "code",
      "execution_count": null,
      "metadata": {
        "id": "aOu_3-3ZGL61"
      },
      "outputs": [],
      "source": [
        "# def convert_to_circuit(image):\n",
        "#     \"\"\"Encode truncated classical image into quantum datapoint.\"\"\"\n",
        "#     values = np.ndarray.flatten(image)\n",
        "#     qubits = cirq.LineQubit.range(7)\n",
        "#     circuit = cirq.Circuit()\n",
        "#     for i, value in enumerate(values):\n",
        "#         if value:\n",
        "#             circuit.append(cirq.X(qubits[i]))\n",
        "#     return circuit\n",
        "\n",
        "# x_train_circ = [convert_to_circuit(x) for x in x_train_deskew]\n",
        "# x_test_circ = [convert_to_circuit(x) for x in x_test_deskew]"
      ]
    },
    {
      "cell_type": "code",
      "source": [
        "def section_angle_embedding_circ(img):\n",
        "  angle_list = sectioned_angle_embedding(img)\n",
        "  qubits = cirq.LineQubit.range(10)\n",
        "  circuit = cirq.Circuit()\n",
        "  for i, value in enumerate(angle_list):\n",
        "    r_x,r_y,r_z,  = value\n",
        "    circuit.append(cirq.X(qubits[i])**(r_x))\n",
        "    circuit.append(cirq.Y(qubits[i])**(r_y))\n",
        "    circuit.append(cirq.Z(qubits[i])**(r_z))\n",
        "  return circuit\n",
        "\n",
        "x_train_circ = [section_angle_embedding_circ(x) for x in x_train_deskew_bin]\n",
        "x_test_circ = [section_angle_embedding_circ(x) for x in x_test_deskew_bin]"
      ],
      "metadata": {
        "id": "NnM9bY-V_963"
      },
      "execution_count": null,
      "outputs": []
    },
    {
      "cell_type": "code",
      "source": [
        "section_angle_embedding_circ(x_train_avg[0])"
      ],
      "metadata": {
        "id": "VpaGKdgfAPI8"
      },
      "execution_count": null,
      "outputs": []
    },
    {
      "cell_type": "markdown",
      "metadata": {
        "id": "zSCXqzOzojhd"
      },
      "source": [
        "Here is the circuit created for the first example (circuit diagrams do not show qubits with zero gates):"
      ]
    },
    {
      "cell_type": "code",
      "execution_count": null,
      "metadata": {
        "id": "w3POmUEUojhe",
        "scrolled": false
      },
      "outputs": [],
      "source": [
        "SVGCircuit(x_train_circ[0])"
      ]
    },
    {
      "cell_type": "markdown",
      "metadata": {
        "id": "AEQMxCcBojhg"
      },
      "source": [
        "Compare this circuit to the indices where the image value exceeds the threshold:"
      ]
    },
    {
      "cell_type": "markdown",
      "metadata": {
        "id": "mWZ24w1Oojhk"
      },
      "source": [
        "Convert these `Cirq` circuits to tensors for `tfq`:"
      ]
    },
    {
      "cell_type": "code",
      "execution_count": null,
      "metadata": {
        "id": "IZStEMk4ojhk"
      },
      "outputs": [],
      "source": [
        "x_train_tfcirc = tfq.convert_to_tensor(x_train_circ)\n",
        "x_test_tfcirc = tfq.convert_to_tensor(x_test_circ)\n"
      ]
    },
    {
      "cell_type": "markdown",
      "metadata": {
        "id": "4USiqeOqGL67"
      },
      "source": [
        "## 2. Quantum neural network\n",
        "\n",
        "There is little guidance for a quantum circuit structure that classifies images. Since the classification is based on the expectation of the readout qubit, <a href=\"https://arxiv.org/pdf/1802.06002.pdf\" class=\"external\">Farhi et al.</a> propose using two qubit gates, with the readout qubit always acted upon. This is similar in some ways to running small a <a href=\"https://arxiv.org/abs/1511.06464\" class=\"external\">Unitary RNN</a> across the pixels."
      ]
    },
    {
      "cell_type": "code",
      "execution_count": null,
      "metadata": {
        "id": "TBIsiXdtojhh"
      },
      "outputs": [],
      "source": [
        "print(len(x_train_tfcirc),len(x_test_tfcirc))"
      ]
    },
    {
      "cell_type": "markdown",
      "metadata": {
        "id": "knIzawEeojho"
      },
      "source": [
        "### 2.1 Build the model circuit\n",
        "\n",
        "This following example shows this layered approach. Each layer uses *n* instances of the same gate, with each of the data qubits acting on the readout qubit.\n",
        "\n",
        "Start with a simple class that will add a layer of these gates to a circuit:"
      ]
    },
    {
      "cell_type": "code",
      "execution_count": null,
      "metadata": {
        "id": "-hjxxgU5ojho"
      },
      "outputs": [],
      "source": [
        "class CircuitLayerBuilder():\n",
        "    def __init__(self, data_qubits, readout):\n",
        "        self.data_qubits = data_qubits\n",
        "        self.readout = readout\n",
        "    \n",
        "    def add_layer(self, circuit, single_qubit_gate,two_qubit_gate, prefix):\n",
        "        for i, qubit in enumerate(self.data_qubits):\n",
        "          if i < len(self.data_qubits)-1:\n",
        "            symbol = sympy.Symbol(prefix + '-' + str(i))\n",
        "            circuit.append(two_qubit_gate(qubit, self.data_qubits[i+1]))\n",
        "            circuit.append(single_qubit_gate(self.data_qubits[i+1])**(2*symbol))\n",
        "            circuit.append(two_qubit_gate(qubit, self.data_qubits[i+1]))"
      ]
    },
    {
      "cell_type": "code",
      "source": [
        "cirq.LineQubit(0)"
      ],
      "metadata": {
        "id": "7LWiP5Bm_4_b"
      },
      "execution_count": null,
      "outputs": []
    },
    {
      "cell_type": "markdown",
      "metadata": {
        "id": "Sjo5hANFojhr"
      },
      "source": [
        "Build an example circuit layer to see how it looks:"
      ]
    },
    {
      "cell_type": "code",
      "execution_count": null,
      "metadata": {
        "id": "SzXWOpUGojhs"
      },
      "outputs": [],
      "source": [
        "demo_builder = CircuitLayerBuilder(data_qubits = cirq.LineQubit.range(7),\n",
        "                                   readout=cirq.LineQubit(-1))\n",
        "circuit = cirq.Circuit()\n",
        "demo_builder.add_layer(circuit, cirq.Y, cirq.CNOT, prefix='xx')\n",
        "SVGCircuit(circuit)"
      ]
    },
    {
      "cell_type": "markdown",
      "metadata": {
        "id": "T-QhPE1pojhu"
      },
      "source": [
        "Now build a two-layered model, matching the data-circuit size, and include the preparation and readout operations."
      ]
    },
    {
      "cell_type": "code",
      "execution_count": null,
      "metadata": {
        "id": "JiALbpwRGL69"
      },
      "outputs": [],
      "source": [
        "def create_quantum_model():\n",
        "    \"\"\"Create a QNN model circuit and readout operation to go along with it.\"\"\"\n",
        "    data_qubits =  cirq.LineQubit.range(10)  # a 4x4 grid.\n",
        "    readout =cirq.LineQubit.range(10)     # a single qubit at [-1,-1]\n",
        "    circuit = cirq.Circuit()\n",
        "    \n",
        "    builder = CircuitLayerBuilder(\n",
        "        data_qubits = data_qubits,\n",
        "        readout=readout)\n",
        "\n",
        "    # # Then add layers (experiment by adding more).\n",
        "    builder.add_layer(circuit,cirq.Y, cirq.CNOT, \"cnot1\")\n",
        "    builder.add_layer(circuit, cirq.X, cirq.CNOT, \"cnot2\")\n",
        "    builder.add_layer(circuit, cirq.Z, cirq.CNOT, \"cnot3\")\n",
        "\n",
        "    # Finally, prepare the readout qubit.\n",
        "    measurements = [cirq.X, cirq.Y,cirq.Z]\n",
        "    rng = np.random.default_rng(12345)\n",
        "    rints = rng.integers(low=0, high=2, size=1)[0]\n",
        "    readout_measures = []\n",
        "    for i, qubit in enumerate(readout):\n",
        "      for gate in measurements:\n",
        "        readout_measures.append(gate(qubit))\n",
        "\n",
        "    return circuit, readout_measures"
      ]
    },
    {
      "cell_type": "code",
      "execution_count": null,
      "metadata": {
        "id": "2QZvVh7vojhx"
      },
      "outputs": [],
      "source": [
        "model_circuit, model_readout = create_quantum_model()"
      ]
    },
    {
      "cell_type": "code",
      "source": [
        ""
      ],
      "metadata": {
        "id": "vJjW42sH5WcQ"
      },
      "execution_count": null,
      "outputs": []
    },
    {
      "cell_type": "code",
      "source": [
        "depth = len(cirq.Circuit(model_circuit.all_operations()))\n",
        "depth"
      ],
      "metadata": {
        "id": "WuIZ5NjJZMMh"
      },
      "execution_count": null,
      "outputs": []
    },
    {
      "cell_type": "markdown",
      "metadata": {
        "id": "LY7vbY6yfABE"
      },
      "source": [
        "### 2.2 Wrap the model-circuit in a tfq-keras model\n",
        "\n",
        "Build the Keras model with the quantum components. This model is fed the \"quantum data\", from `x_train_circ`, that encodes the classical data. It uses a *Parametrized Quantum Circuit* layer, `tfq.layers.PQC`, to train the model circuit, on the quantum data.\n",
        "\n",
        "To classify these images, <a href=\"https://arxiv.org/pdf/1802.06002.pdf\" class=\"external\">Farhi et al.</a> proposed taking the expectation of a readout qubit in a parameterized circuit. The expectation returns a value between 1 and -1."
      ]
    },
    {
      "cell_type": "code",
      "source": [
        "SVGCircuit(model_circuit)"
      ],
      "metadata": {
        "id": "kjE6m2yfvf39"
      },
      "execution_count": null,
      "outputs": []
    },
    {
      "cell_type": "code",
      "execution_count": null,
      "metadata": {
        "id": "ZYdf_KOxojh0"
      },
      "outputs": [],
      "source": [
        "# Build the Keras model.\n",
        "model = tf.keras.Sequential([\n",
        "    # The input is the data-circuit, encoded as a tf.string\n",
        "    tf.keras.layers.Input(shape=(), dtype=tf.string),\n",
        "    # The PQC layer returns the expected value of the readout gate, range [-1,1].\n",
        "    tfq.layers.PQC(model_circuit, model_readout),\n",
        "    tf.keras.layers.Dense(10, activation='softmax')\n",
        "])"
      ]
    },
    {
      "cell_type": "markdown",
      "metadata": {
        "id": "jz-FbVc9ojh3"
      },
      "source": [
        "Next, describe the training procedure to the model, using the `compile` method.\n",
        "\n",
        "Since the the expected readout is in the range `[-1,1]`, optimizing the hinge loss is a somewhat natural fit. \n",
        "\n",
        "Note: Another valid approach would be to shift the output range to `[0,1]`, and treat it as the probability the model assigns to class `3`. This could be used with a standard a `tf.losses.BinaryCrossentropy` loss.\n",
        "\n",
        "To use the hinge loss here you need to make two small adjustments. First convert the labels, `y_train_nocon`, from boolean to `[-1,1]`, as expected by the hinge loss."
      ]
    },
    {
      "cell_type": "code",
      "execution_count": null,
      "metadata": {
        "id": "CgMNkC1Fojh5"
      },
      "outputs": [],
      "source": [
        "y_train_onehot = tf.one_hot(y_train,10)\n",
        "y_test_onehot = tf.one_hot(y_test,10)"
      ]
    },
    {
      "cell_type": "markdown",
      "metadata": {
        "id": "5nwnveDiojh7"
      },
      "source": [
        "Second, use a custiom `hinge_accuracy` metric that correctly handles `[-1, 1]` as the `y_true` labels argument. \n",
        "`tf.losses.BinaryAccuracy(threshold=0.0)` expects `y_true` to be a boolean, and so can't be used with hinge loss)."
      ]
    },
    {
      "cell_type": "code",
      "execution_count": null,
      "metadata": {
        "id": "3XKtZ_TEojh8"
      },
      "outputs": [],
      "source": [
        "def hinge_accuracy(y_true, y_pred):\n",
        "    y_true = tf.squeeze(y_true) > 0.0\n",
        "    y_pred = tf.squeeze(y_pred) > 0.0\n",
        "    result = tf.cast(y_true == y_pred, tf.float32)\n",
        "\n",
        "    return tf.reduce_mean(result)"
      ]
    },
    {
      "cell_type": "code",
      "execution_count": null,
      "metadata": {
        "id": "FlpETlLRojiA"
      },
      "outputs": [],
      "source": [
        "model.compile(\n",
        "    loss=tf.keras.losses.CategoricalCrossentropy(),\n",
        "    metrics=[tf.keras.metrics.CategoricalAccuracy()],\n",
        "    optimizer=tf.keras.optimizers.Adam(0.02))"
      ]
    },
    {
      "cell_type": "code",
      "execution_count": null,
      "metadata": {
        "id": "jkHq2RstojiC"
      },
      "outputs": [],
      "source": [
        "print(model.summary())"
      ]
    },
    {
      "cell_type": "markdown",
      "metadata": {
        "id": "lsuOzDYblA9s"
      },
      "source": [
        "### Train the quantum model\n",
        "\n",
        "Now train the model—this takes about 45 min. If you don't want to wait that long, use a small subset of the data (set `NUM_EXAMPLES=500`, below). This doesn't really affect the model's progress during training (it only has 32 parameters, and doesn't need much data to constrain these). Using fewer examples just ends training earlier (5min), but runs long enough to show that it is making progress in the validation logs."
      ]
    },
    {
      "cell_type": "code",
      "execution_count": null,
      "metadata": {
        "id": "n8vuQpSLlBV2"
      },
      "outputs": [],
      "source": [
        "EPOCHS = 5\n",
        "BATCH_SIZE = 32\n",
        "\n",
        "NUM_EXAMPLES = 500"
      ]
    },
    {
      "cell_type": "code",
      "execution_count": null,
      "metadata": {
        "id": "qJnNG-3JojiI"
      },
      "outputs": [],
      "source": [
        "x_train_tfcirc_sub = x_train_tfcirc[:NUM_EXAMPLES]\n",
        "y_train_sub = y_train[:NUM_EXAMPLES]\n"
      ]
    },
    {
      "cell_type": "code",
      "source": [
        "# CALLBACKS\n",
        "# Load the TensorBoard notebook extension\n",
        "%load_ext tensorboard\n",
        "current_time = str(datetime.datetime.now().timestamp())\n",
        "train_log_dir = 'logs/tensorboard/' + current_time\n",
        "test_log_dir = 'logs/tensorboard/test/' + current_time\n",
        "path_for_checkpoint_callback = 'logs/summary/'+current_time\n",
        "\n",
        "reduce_lr = tf.keras.callbacks.ReduceLROnPlateau(monitor='loss',\n",
        "                              patience=7, min_delta=1e-7, verbose=1)\n",
        "tensorboard = tf.keras.callbacks.TensorBoard(\n",
        "                log_dir=train_log_dir, histogram_freq=1, profile_batch=3\n",
        "            )\n",
        "model_ckpt =  tf.keras.callbacks.ModelCheckpoint(\n",
        "                path_for_checkpoint_callback, save_weights_only=True\n",
        "            )"
      ],
      "metadata": {
        "id": "ojQB9H04IusK"
      },
      "execution_count": null,
      "outputs": []
    },
    {
      "cell_type": "markdown",
      "metadata": {
        "id": "QMSdgGC1GL7D"
      },
      "source": [
        "Training this model to convergence should achieve >85% accuracy on the test set."
      ]
    },
    {
      "cell_type": "code",
      "execution_count": null,
      "metadata": {
        "id": "Ya9qP3KkojiM"
      },
      "outputs": [],
      "source": [
        "qnn_history = model.fit(x_train_tfcirc,\n",
        "          y_train_onehot,\n",
        "          batch_size=32,\n",
        "          epochs=125,\n",
        "          verbose=1,\n",
        "          callbacks=[tensorboard,reduce_lr,model_ckpt]) \n",
        "qnn_results = model.evaluate(x_test_tfcirc, y_test_onehot)\n"
      ]
    },
    {
      "cell_type": "code",
      "source": [
        "print(\"Weights and biases of the layers before training the model: \\n\")\n",
        "for layer in model.layers:\n",
        "  print(layer.name)\n",
        "  print(\"Weights\")\n",
        "  print(\"Shape: \",layer.get_weights()[0].shape,'\\n',layer.get_weights()[0])"
      ],
      "metadata": {
        "id": "MPlZOBN6Cux0"
      },
      "execution_count": null,
      "outputs": []
    },
    {
      "cell_type": "code",
      "source": [
        " qnn_results = model.evaluate(x_test_tfcirc, y_test_onehot)"
      ],
      "metadata": {
        "id": "X-AfrOdpZmxv"
      },
      "execution_count": null,
      "outputs": []
    },
    {
      "cell_type": "code",
      "source": [
        "y_pred = model.predict(x_test_tfcirc)\n",
        "y_pred = np.argmax(y_pred, axis=1)\n",
        "print(y_pred, y_test)\n"
      ],
      "metadata": {
        "id": "pTU9pgBsTcxe"
      },
      "execution_count": null,
      "outputs": []
    },
    {
      "cell_type": "code",
      "source": [
        "fig, ax = plt.subplots(figsize=(16,12))\n",
        "plot_confusion_matrix(y_test, y_pred, ax=ax)"
      ],
      "metadata": {
        "id": "8IPDcJeCTYKf"
      },
      "execution_count": null,
      "outputs": []
    },
    {
      "cell_type": "markdown",
      "metadata": {
        "id": "3ER7B7aaojiP"
      },
      "source": [
        "Note: The training accuracy reports the average over the epoch. The validation accuracy is evaluated at the end of each epoch."
      ]
    },
    {
      "cell_type": "markdown",
      "metadata": {
        "id": "8952YvuWGL7J"
      },
      "source": [
        "## 3. Classical neural network\n",
        "\n",
        "While the quantum neural network works for this simplified MNIST problem, a basic classical neural network can easily outperform a QNN on this task. After a single epoch, a classical neural network can achieve >98% accuracy on the holdout set.\n",
        "\n",
        "In the following example, a classical neural network is used for for the 3-6 classification problem using the entire 28x28 image instead of subsampling the image. This easily converges to nearly 100% accuracy of the test set."
      ]
    },
    {
      "cell_type": "code",
      "execution_count": null,
      "metadata": {
        "id": "pZofEHhLGL7L"
      },
      "outputs": [],
      "source": [
        "\n",
        "def create_classical_model():\n",
        "    # A simple model based off LeNet from https://keras.io/examples/mnist_cnn/\n",
        "    model = tf.keras.Sequential()\n",
        "    model.add(tf.keras.layers.Conv2D(32, [3, 3], activation='relu', input_shape=(10,10,1)))\n",
        "    model.add(tf.keras.layers.Conv2D(64, [3, 3], activation='relu'))\n",
        "    model.add(tf.keras.layers.MaxPooling2D(pool_size=(2, 2)))\n",
        "    model.add(tf.keras.layers.Dropout(0.25))\n",
        "    model.add(tf.keras.layers.Flatten())\n",
        "    model.add(tf.keras.layers.Dense(128, activation='relu'))\n",
        "    model.add(tf.keras.layers.Dropout(0.5))\n",
        "    model.add(tf.keras.layers.Dense(10, activation='softmax'))\n",
        "    return model\n",
        "\n",
        "\n",
        "model = create_classical_model()\n",
        "model.compile(loss=tf.keras.losses.CategoricalCrossentropy(),\n",
        "              optimizer=tf.keras.optimizers.Adam(0.002),\n",
        "               metrics=[tf.keras.metrics.CategoricalAccuracy()])\n",
        "\n",
        "model.summary()"
      ]
    },
    {
      "cell_type": "code",
      "execution_count": null,
      "metadata": {
        "id": "CiAJl7sZojiU"
      },
      "outputs": [],
      "source": [
        "model.fit(x_train_deskew_bin,\n",
        "          y_train_onehot,\n",
        "          batch_size=128,\n",
        "          epochs=10,\n",
        "          verbose=1,\n",
        "          validation_data=(x_test_deskew_bin[:1000], y_test_onehot[:1000]))\n",
        "\n",
        "cnn_results = model.evaluate(x_test_deskew_bin, y_test_onehot)"
      ]
    },
    {
      "cell_type": "markdown",
      "metadata": {
        "id": "X5-5BVJaojiZ"
      },
      "source": [
        "The above model has nearly 1.2M parameters. For a more fair comparison, try a 37-parameter model, on the subsampled images:"
      ]
    },
    {
      "cell_type": "code",
      "execution_count": null,
      "metadata": {
        "id": "70TOM6r-ojiZ",
        "scrolled": false
      },
      "outputs": [],
      "source": [
        "def create_fair_classical_model():\n",
        "    # A simple model based off LeNet from https://keras.io/examples/mnist_cnn/\n",
        "    model = tf.keras.Sequential()\n",
        "    model.add(tf.keras.layers.Flatten(input_shape=(10,10)))\n",
        "    model.add(tf.keras.layers.Dense(3))\n",
        "    model.add(tf.keras.layers.Dense(10, activation='softmax'))\n",
        "    return model\n",
        "\n",
        "\n",
        "model = create_fair_classical_model()\n",
        "model.compile(loss=tf.keras.losses.CategoricalCrossentropy(),\n",
        "              optimizer=tf.keras.optimizers.Adam(0.002),\n",
        "              metrics=['accuracy'])\n",
        "model.summary()"
      ]
    },
    {
      "cell_type": "code",
      "execution_count": null,
      "metadata": {
        "id": "lA_Fx-8gojid"
      },
      "outputs": [],
      "source": [
        "\n",
        "model.fit(x_train_deskew_bin,\n",
        "          y_train_onehot,\n",
        "          batch_size=128,\n",
        "          epochs=20,\n",
        "          verbose=1,\n",
        "          validation_data=(x_test_deskew_bin[:1000], y_test_onehot[:1000]))\n",
        "\n",
        "fair_nn_results = model.evaluate(x_test_deskew_bin , y_test_onehot)"
      ]
    },
    {
      "cell_type": "markdown",
      "metadata": {
        "id": "RH3mam7EGL7N"
      },
      "source": [
        "## 4. Comparison\n",
        "\n",
        "Higher resolution input and a more powerful model make this problem easy for the CNN. While a classical model of similar power (~32 parameters) trains to a similar accuracy in a fraction of the time. One way or the other, the classical neural network easily outperforms the quantum neural network. For classical data, it is difficult to beat a classical neural network."
      ]
    },
    {
      "cell_type": "code",
      "execution_count": null,
      "metadata": {
        "id": "NOMeN7pMGL7P"
      },
      "outputs": [],
      "source": [
        "qnn_accuracy = qnn_results[1]\n",
        "cnn_accuracy = cnn_results[1]\n",
        "fair_nn_accuracy = fair_nn_results[1]\n",
        "\n",
        "sns.barplot([\"Quantum\", \"Classical, full\", \"Classical, fair\"],\n",
        "            [qnn_accuracy, cnn_accuracy, fair_nn_accuracy])"
      ]
    },
    {
      "cell_type": "code",
      "source": [
        "qnn_results[1]"
      ],
      "metadata": {
        "id": "cJ98O5UkCqrb"
      },
      "execution_count": null,
      "outputs": []
    }
  ],
  "metadata": {
    "colab": {
      "collapsed_sections": [],
      "name": "Trial 1 Z Normal embedding w/diff lr mnist.ipynb",
      "private_outputs": true,
      "provenance": []
    },
    "kernelspec": {
      "display_name": "Python 3",
      "language": "python",
      "name": "python3"
    }
  },
  "nbformat": 4,
  "nbformat_minor": 0
}