{
 "cells": [
  {
   "cell_type": "markdown",
   "id": "dcf1d924-2bfd-4359-bb15-2761697bcbcb",
   "metadata": {},
   "source": [
    "# QCNN for QOSF project\n",
    "This is the first QCNN and we will work on benchmarking multiple on real quantum hardware then making an opensource pakcage with a custom tensorboard for QML."
   ]
  },
  {
   "cell_type": "markdown",
   "id": "e6eb06f1-9bf3-44de-b420-9b30e72683a1",
   "metadata": {},
   "source": [
    "## Data loading and Preprocessing\n",
    "We will use the mnist dataset and will apply some pre processing to embed the date for the QCNN by"
   ]
  },
  {
   "cell_type": "code",
   "execution_count": 29,
   "id": "aba9afa4-99be-4400-ae85-1899aafdc4ec",
   "metadata": {},
   "outputs": [],
   "source": [
    "#! /home/jovyan/.qbraid/environments/tensorflow_uorhf3/pyenv/bin/pip  install tensorflow_quantum --upgrade"
   ]
  },
  {
   "cell_type": "code",
   "execution_count": 36,
   "id": "91703faa-3bfa-4ace-9ae3-ed5fa177375e",
   "metadata": {},
   "outputs": [],
   "source": [
    "import numpy as np\n",
    "import sympy\n",
    "\n",
    "import cirq\n",
    "import tensorflow as tf\n",
    "import tensorflow_quantum as tfq\n",
    "\n",
    "# visualization tools\n",
    "%matplotlib inline\n",
    "import matplotlib.pyplot as plt\n",
    "from cirq.contrib.svg import SVGCircuit\n"
   ]
  },
  {
   "cell_type": "code",
   "execution_count": 20,
   "id": "6a98f54f-e8fc-4946-ab35-feed1c3ff512",
   "metadata": {},
   "outputs": [],
   "source": [
    "# CONSTANTS\n",
    "NUM_EXAMPLES=500"
   ]
  },
  {
   "cell_type": "markdown",
   "id": "9e25dbb1-5106-4cf9-b4a7-22588a102680",
   "metadata": {},
   "source": [
    "### Load MNIST Data\n",
    "Loading the mnist data provided by Keras. "
   ]
  },
  {
   "cell_type": "code",
   "execution_count": 21,
   "id": "5dfa53b5-108c-4756-b08f-447a1c3a6281",
   "metadata": {},
   "outputs": [
    {
     "name": "stdout",
     "output_type": "stream",
     "text": [
      "Number of original training examples: 60000\n",
      "Number of original test examples: 10000\n"
     ]
    }
   ],
   "source": [
    "(x_train, y_train), (x_test, y_test) = tf.keras.datasets.mnist.load_data()\n",
    "\n",
    "# Rescale the images from [0,255] to the [0.0,1.0] range.\n",
    "x_train, x_test = x_train[..., np.newaxis]/255.0, x_test[..., np.newaxis]/255.0\n",
    "\n",
    "print(\"Number of original training examples:\", len(x_train))\n",
    "print(\"Number of original test examples:\", len(x_test))"
   ]
  },
  {
   "cell_type": "markdown",
   "id": "afac0a6b-8d34-4ad0-9c5b-842a49a065fa",
   "metadata": {},
   "source": [
    "### Filter 3's and 6's\n",
    "\n",
    "Following the procedure of Farhi et al. we will filter for 3s and 6s for now.\n"
   ]
  },
  {
   "cell_type": "code",
   "execution_count": 22,
   "id": "473a01c6-4510-41e3-bb21-57c0ae3484f5",
   "metadata": {},
   "outputs": [],
   "source": [
    "def filter_36(x, y):\n",
    "    keep = (y == 3) | (y == 6)\n",
    "    x, y = x[keep], y[keep]\n",
    "    y = y == 3\n",
    "    return x,y\n"
   ]
  },
  {
   "cell_type": "code",
   "execution_count": 23,
   "id": "24061653-689a-4af9-a103-60f4d344656f",
   "metadata": {},
   "outputs": [
    {
     "name": "stdout",
     "output_type": "stream",
     "text": [
      "Number of filtered training examples: 12049\n",
      "Number of filtered test examples: 1968\n",
      "0.3\n",
      "0.7\n",
      "After restricting - number of filtered training examples: 500\n",
      "After restricting - number of filtered test examples: 500\n"
     ]
    }
   ],
   "source": [
    "x_train, y_train = filter_36(x_train, y_train)\n",
    "x_test, y_test = filter_36(x_test, y_test)\n",
    "\n",
    "print(\"Number of filtered training examples:\", len(x_train))\n",
    "print(\"Number of filtered test examples:\", len(x_test))\n",
    "\n",
    "def build_set(x, y, desired_size, t_rate):\n",
    "    assert len(x) == len(y)\n",
    "    r = list(range(len(x)))\n",
    "    np.random.shuffle(r)\n",
    "    \n",
    "    if desired_size is None or t_rate is None:\n",
    "        return x,y # no change\n",
    "    \n",
    "    n_true_max = int(desired_size * t_rate)\n",
    "    n_false_max = desired_size - n_true_max\n",
    "    \n",
    "    n_true = 0\n",
    "    n_false = 0\n",
    "    \n",
    "    res_x = []\n",
    "    res_y = []\n",
    "    \n",
    "    for i in r:\n",
    "        if y[i] == True and n_true < n_true_max:\n",
    "            res_x.append(x[i])\n",
    "            res_y.append(y[i])\n",
    "            n_true += 1\n",
    "        elif y[i] == False and n_false < n_false_max:\n",
    "            res_x.append(x[i])\n",
    "            res_y.append(y[i])\n",
    "            n_false += 1\n",
    "    \n",
    "    assert len(res_x) == len(res_y) and len(res_x) == desired_size\n",
    "    \n",
    "    return np.array(res_x), np.array(res_y)\n",
    "\n",
    "# We do a lot of computation so we want to limit the number of examples ASAP\n",
    "x_train, y_train = build_set(x_train, y_train, NUM_EXAMPLES, 0.3)\n",
    "x_test, y_test = build_set(x_test, y_test, NUM_EXAMPLES, 0.7)\n",
    "\n",
    "\n",
    "print(np.count_nonzero(y_train) / NUM_EXAMPLES)\n",
    "print(np.count_nonzero(y_test) / NUM_EXAMPLES)\n",
    "\n",
    "\n",
    "print(\"After restricting - number of filtered training examples:\", len(x_train))\n",
    "print(\"After restricting - number of filtered test examples:\", len(x_test))\n"
   ]
  },
  {
   "cell_type": "markdown",
   "id": "7c1f8ade-40e8-42e6-9fbb-f933f83b53c9",
   "metadata": {},
   "source": [
    "### Straighten and clean images\n",
    "We will now deskew the dataset to improve the consistency of each input, while not a standard process in classical machine learning, we do this to make it easier for a qml algorithm to learn."
   ]
  },
  {
   "cell_type": "code",
   "execution_count": 24,
   "id": "d9fa8d4f-b0fc-4981-bf8d-cb5271c7cc99",
   "metadata": {},
   "outputs": [
    {
     "name": "stdout",
     "output_type": "stream",
     "text": [
      "shape of x_train is (500, 28, 28, 1)\n",
      "type of x_train is <class 'numpy.ndarray'>\n",
      "shape of x_test is (500, 28, 28, 1)\n",
      "type of x_test is <class 'numpy.ndarray'>\n",
      "shape of x_train_deskew is (500, 28, 28, 1)\n",
      "type of x_train_deskew is <class 'numpy.ndarray'>\n",
      "shape of x_test_deskew is (500, 28, 28, 1)\n",
      "type of x_test_deskew is <class 'numpy.ndarray'>\n"
     ]
    },
    {
     "data": {
      "text/plain": [
       "<matplotlib.image.AxesImage at 0x7ff6706f38b0>"
      ]
     },
     "execution_count": 24,
     "metadata": {},
     "output_type": "execute_result"
    },
    {
     "data": {
      "image/png": "[encoded data removed]",
      "text/plain": [
       "<Figure size 432x288 with 2 Axes>"
      ]
     },
     "metadata": {
      "needs_background": "light"
     },
     "output_type": "display_data"
    }
   ],
   "source": [
    "# The following moment and deskew functions were taken from the works of :\n",
    "\n",
    "# https://stackoverflow.com/questions/43577665/deskew-mnist-images\n",
    "# https://fsix.github.io/mnist/Deskewing.html\n",
    "\n",
    "from scipy.ndimage import interpolation\n",
    "\n",
    "def moments(image):\n",
    "    c0,c1 = np.mgrid[:image.shape[0],:image.shape[1]] # A trick in numPy to create a mesh grid\n",
    "    totalImage = np.sum(image) #sum of pixels\n",
    "    m0 = np.sum(c0*image)/totalImage #mu_x\n",
    "    m1 = np.sum(c1*image)/totalImage #mu_y\n",
    "    m00 = np.sum((c0-m0)**2*image)/totalImage #var(x)\n",
    "    m11 = np.sum((c1-m1)**2*image)/totalImage #var(y)\n",
    "    m01 = np.sum((c0-m0)*(c1-m1)*image)/totalImage #covariance(x,y)\n",
    "    mu_vector = np.array([m0,m1]) # Notice that these are \\mu_x, \\mu_y respectively\n",
    "    covariance_matrix = np.array([[m00,m01],[m01,m11]]) # Do you see a similarity between the covariance matrix\n",
    "    return mu_vector, covariance_matrix\n",
    "#Deskew the training samples \n",
    "def deskew(image):\n",
    "    c,v = moments(image)\n",
    "    alpha = v[0,1]/v[0,0]\n",
    "    affine = np.array([[1,0],[alpha,1]])\n",
    "    ocenter = np.array(image.shape)/2.0\n",
    "    offset = c-np.dot(affine,ocenter)\n",
    "    img = interpolation.affine_transform(image,affine,offset=offset)\n",
    "    return (img - img.min()) / (img.max() - img.min())\n",
    "\n",
    "print(\"shape of x_train is \" + str(x_train.shape))\n",
    "print(\"type of x_train is \" + str(type(x_train)))\n",
    "print(\"shape of x_test is \" + str(x_test.shape))\n",
    "print(\"type of x_test is \" + str(type(x_test)))\n",
    "\n",
    "\n",
    "#store the deskwed x_train into a list x_train_deskew\n",
    "#store the deskwed x_test into a list x_test_deskew\n",
    "\n",
    "#training set \n",
    "x_train_deskew = [] \n",
    "for i in range(x_train.shape[0]): \n",
    "    x_train_deskew.append(deskew(x_train[i].reshape(28,28)))\n",
    "x_train_deskew = np.array(x_train_deskew)\n",
    "x_train_deskew = x_train_deskew[..., np.newaxis]\n",
    "print(\"shape of x_train_deskew is \" + str(np.shape(x_train_deskew)))\n",
    "print(\"type of x_train_deskew is \" + str(type(x_train_deskew)))\n",
    "\n",
    "#test set \n",
    "x_test_deskew = [] \n",
    "for j in range(x_test.shape[0]): \n",
    "    x_test_deskew.append(deskew(x_test[j].reshape(28,28)))\n",
    "x_test_deskew = np.array(x_test_deskew)\n",
    "x_test_deskew = x_test_deskew[..., np.newaxis]\n",
    "print(\"shape of x_test_deskew is \" + str(np.shape(x_test_deskew)))\n",
    "print(\"type of x_test_deskew is \" + str(type(x_test_deskew)))\n",
    "\n",
    "\n",
    "#We should have the deskewed image stored within x_train\n",
    "#original \n",
    "plt.subplot(1, 2, 1)\n",
    "plt.imshow(x_train[3].reshape(28,28))\n",
    "\n",
    "#deskewed \n",
    "plt.subplot(1, 2, 2)\n",
    "plt.imshow(x_train_deskew[3])\n",
    "\n",
    "\n",
    "#We should have the deskewed image stored within x_test \n",
    "#original\n",
    "plt.subplot(1, 2, 1)\n",
    "plt.imshow(x_test[3].reshape(28,28))\n",
    "\n",
    "#deskewed\n",
    "plt.subplot(1, 2, 2)\n",
    "plt.imshow(x_test_deskew[3])"
   ]
  },
  {
   "cell_type": "markdown",
   "id": "006481e9-a2d1-4a48-a753-268372a856fc",
   "metadata": {},
   "source": [
    "### Downsample image to 16 x 16\n",
    "We will now downsample the image to make it embeddable in a quantum circuit.\n",
    "\n",
    "An image size of 28x28 is much too large for current quantum computers. Resize the image down to 16x16:\n"
   ]
  },
  {
   "cell_type": "code",
   "execution_count": 25,
   "id": "30d885c2-78b5-4fba-81b3-f774b25126cc",
   "metadata": {},
   "outputs": [],
   "source": [
    "# 16x16 for angle embedding!\n",
    "x_train_small_256 = tf.image.resize(x_train, (16,16)).numpy()\n",
    "x_test_small_256 = tf.image.resize(x_test, (16,16)).numpy()\n"
   ]
  },
  {
   "cell_type": "code",
   "execution_count": 26,
   "id": "ccf4dda3-23b3-4554-8afb-aea706ad50d4",
   "metadata": {},
   "outputs": [
    {
     "name": "stdout",
     "output_type": "stream",
     "text": [
      "Help on function ry in module cirq.ops.common_gates:\n",
      "\n",
      "ry(rads: Union[float, sympy.core.basic.Basic]) -> cirq.ops.common_gates.Ry\n",
      "    Returns a gate with the matrix e^{-i Y rads / 2}.\n",
      "\n"
     ]
    }
   ],
   "source": [
    "help(cirq.ry)"
   ]
  },
  {
   "cell_type": "markdown",
   "id": "8f0e8279-7f10-4757-8140-11c4f401e2e7",
   "metadata": {},
   "source": [
    "## Angle Embedding\n",
    "We will use angle embedding to encode the data on the qubits. We follow the procedure proposed by Chen et al(https://arxiv.org/pdf/2012.12177.pdf).\n",
    "Here I would like to import the qBraid SDK to use the pennylane embedding angle embedding method, but that would mean I have to install tensorflow into that environment which would be a bitch."
   ]
  },
  {
   "cell_type": "markdown",
   "id": "1f9618af-bb42-4082-8749-2361eb4d92e0",
   "metadata": {},
   "source": [
    "$$\\Sigma_{(q_1,q_2,...,q_N) \\in (0,1)^N)} ||c_{q1} ... c_{qN}||^2 =1$$"
   ]
  },
  {
   "cell_type": "markdown",
   "id": "8fd820fc-42fa-4767-a44e-f33886edf3e5",
   "metadata": {},
   "source": [
    "The input will first be flattened and transformed into rotation\n",
    "angles for the quantum gates (Chen et al).  In general, the input values of pixels are not in the interval\n",
    "of [−1, 1]. We use the arc tangent function to transform these input values into rotation\n",
    "angles."
   ]
  },
  {
   "cell_type": "code",
   "execution_count": 53,
   "id": "07c83cb9-43a6-4d3a-a3ff-460009c4e324",
   "metadata": {},
   "outputs": [],
   "source": [
    "\"\"\"Define a custom general unitary gatee with a parameter.\"\"\"\n",
    "class RotationGate(cirq.Gate):\n",
    "    def __init__(self, alpha,beta, gamma):\n",
    "        super(RotationGate, self)\n",
    "        self.alpha = alpha\n",
    "        self.beta = beta\n",
    "        self.gamma = gamma\n",
    "\n",
    "    def _num_qubits_(self):\n",
    "        return 1\n",
    "\n",
    "    def _unitary_(self):\n",
    "        return np.array([\n",
    "            [np.cos(self.alpha/2), -np.exp(self.gamma*1j)*np.sin(self.alpha/2)],\n",
    "            [np.exp(self.beta*1j)*np.sin(self.alpha/2), np.exp(1j*(self.gamma+self.beta))*np.cos(self.alpha/2)]\n",
    "        ])\n",
    "\n",
    "    def _circuit_diagram_info_(self, args):\n",
    "        return f\"R({self.alpha,self.beta,self.gamma})\""
   ]
  },
  {
   "cell_type": "code",
   "execution_count": 54,
   "id": "606b70df-b48e-4374-803d-cc318a8cf666",
   "metadata": {},
   "outputs": [
    {
     "name": "stdout",
     "output_type": "stream",
     "text": [
      "Circuit with a custom rotation gate:\n",
      "(2, 2): ───R((alpha_499, 1, 1))───\n"
     ]
    }
   ],
   "source": [
    "\"\"\"Use the custom general unitary gate in our circuit.\"\"\"\n",
    "alpha = sympy.Symbol(f'alpha' + '_' + str(i))\n",
    "circ = cirq.Circuit(\n",
    "    \n",
    "    RotationGate(alpha=alpha,beta=1,gamma=1).on(cirq.GridQubit(2,2))\n",
    ")\n",
    "\n",
    "print(\"Circuit with a custom rotation gate:\")\n",
    "print(circ)\n"
   ]
  },
  {
   "cell_type": "code",
   "execution_count": 55,
   "id": "b92f5542-bccd-4020-9e2d-652e53350286",
   "metadata": {},
   "outputs": [],
   "source": [
    "def angle_embed_image(image):\n",
    "    values = np.ndarray.flatten(image)\n",
    "    assert len(values) == 256\n",
    "    qubits = cirq.GridQubit.rect(16, 16)\n",
    "    circuit = cirq.Circuit()\n",
    "    for i, value in enumerate(values):\n",
    "        x_i = np.arctan(value)\n",
    "        x_i_squared = np.arctan(value**2)\n",
    "        circuit.append(cirq.ry(x_i)(qubits[i]))\n",
    "        circuit.append(cirq.rz(x_i_squared)(qubits[i]))\n",
    "    return circuit\n",
    "\n",
    "x_train_circ = [angle_embed_image(x) for x in x_train_small_256]\n",
    "x_test_circ = [angle_embed_image(x) for x in x_test_small_256]"
   ]
  },
  {
   "cell_type": "code",
   "execution_count": 61,
   "id": "c21d5241-c823-4242-832f-1f76fe291510",
   "metadata": {},
   "outputs": [],
   "source": [
    "## Building the VQC\n",
    "def qconv_layer(cirq_size=(16,16)):\n",
    "    qubits = cirq.GridQubit.rect(cirq_size[0], cirq_size[1])\n",
    "    circuit = cirq.Circuit()\n",
    "    for i,_ in enumerate(qubits):\n",
    "        if i < len(qubits)-1:\n",
    "            circuit.append(cirq.CNOT(qubits[i],qubits[i+1]))\n",
    "        else:\n",
    "            circuit.append(cirq.CNOT(qubits[i],qubits[0]))\n",
    "    for i, qubit in enumerate(qubits):\n",
    "        alpha = sympy.Symbol(f'alpha' + '_' + str(i))\n",
    "        beta = sympy.Symbol(f'beta' + '_' + str(i))\n",
    "        gamma = sympy.Symbol(f'gamma' + '_' + str(i))\n",
    "        circuit.append(RotationGate(alpha,beta,gamma).on(qubit))\n",
    "        \n",
    "    return circuit, cirq.Z(qubits[0])"
   ]
  },
  {
   "cell_type": "code",
   "execution_count": 62,
   "id": "e5da5611-d801-4b40-8e29-b8a14e2f0d60",
   "metadata": {},
   "outputs": [
    {
     "data": {
      "text/plain": [
       "cirq.Z(cirq.GridQubit(0, 0))"
      ]
     },
     "execution_count": 69,
     "metadata": {},
     "output_type": "execute_result"
    }
   ],
   "source": [
    "model_circuit, model_readout = qconv_layer()\n"
   ]
  },
  {
   "cell_type": "code",
   "execution_count": 72,
   "id": "27d9eed7-8364-4925-a424-df60b44e199e",
   "metadata": {},
   "outputs": [
    {
     "data": {
      "text/plain": [
       "{cirq.X: 1,\n",
       " cirq.XX: 2,\n",
       " cirq.Y: 1,\n",
       " cirq.YY: 2,\n",
       " cirq.Z: 1,\n",
       " cirq.ZZ: 2,\n",
       " cirq.H: 1,\n",
       " cirq.CZ: 2,\n",
       " cirq.CNOT: 2,\n",
       " cirq.SWAP: 2,\n",
       " cirq.ISWAP: 2,\n",
       " cirq.PhasedXPowGate(phase_exponent=0.123): 1,\n",
       " cirq.PhasedISwapPowGate(phase_exponent=0.123): 2,\n",
       " cirq.FSimGate(theta=0.123, phi=0.456): 2,\n",
       " cirq.I: 1}"
      ]
     },
     "execution_count": 72,
     "metadata": {},
     "output_type": "execute_result"
    }
   ],
   "source": [
    "tfq.util.get_supported_gates()"
   ]
  },
  {
   "cell_type": "markdown",
   "id": "3b089ffd-1739-44f5-927e-97fc1ce51281",
   "metadata": {},
   "source": [
    "## Running model"
   ]
  },
  {
   "cell_type": "code",
   "execution_count": 74,
   "id": "f97a6e2b-5031-4036-bebc-4fdc97f737ee",
   "metadata": {},
   "outputs": [
    {
     "ename": "ValueError",
     "evalue": "Cannot serialize op <__main__.RotationGate object at 0x7ff592264400>.on(cirq.GridQubit(0, 1)) of type <class '__main__.RotationGate'>",
     "output_type": "error",
     "traceback": [
      "\u001b[0;31m---------------------------------------------------------------------------\u001b[0m",
      "\u001b[0;31mValueError\u001b[0m                                Traceback (most recent call last)",
      "\u001b[0;32m/tmp/ipykernel_735/4007381101.py\u001b[0m in \u001b[0;36m<module>\u001b[0;34m\u001b[0m\n\u001b[1;32m      4\u001b[0m     \u001b[0mtf\u001b[0m\u001b[0;34m.\u001b[0m\u001b[0mkeras\u001b[0m\u001b[0;34m.\u001b[0m\u001b[0mlayers\u001b[0m\u001b[0;34m.\u001b[0m\u001b[0mInput\u001b[0m\u001b[0;34m(\u001b[0m\u001b[0mshape\u001b[0m\u001b[0;34m=\u001b[0m\u001b[0;34m(\u001b[0m\u001b[0;34m)\u001b[0m\u001b[0;34m,\u001b[0m \u001b[0mdtype\u001b[0m\u001b[0;34m=\u001b[0m\u001b[0mtf\u001b[0m\u001b[0;34m.\u001b[0m\u001b[0mstring\u001b[0m\u001b[0;34m)\u001b[0m\u001b[0;34m,\u001b[0m\u001b[0;34m\u001b[0m\u001b[0;34m\u001b[0m\u001b[0m\n\u001b[1;32m      5\u001b[0m     \u001b[0;31m# The PQC layer returns the expected value of the readout gate, range [-1,1].\u001b[0m\u001b[0;34m\u001b[0m\u001b[0;34m\u001b[0m\u001b[0m\n\u001b[0;32m----> 6\u001b[0;31m     \u001b[0mtfq\u001b[0m\u001b[0;34m.\u001b[0m\u001b[0mlayers\u001b[0m\u001b[0;34m.\u001b[0m\u001b[0mPQC\u001b[0m\u001b[0;34m(\u001b[0m\u001b[0mmodel_circuit\u001b[0m\u001b[0;34m,\u001b[0m \u001b[0mmodel_readout\u001b[0m\u001b[0;34m)\u001b[0m\u001b[0;34m,\u001b[0m\u001b[0;34m\u001b[0m\u001b[0;34m\u001b[0m\u001b[0m\n\u001b[0m\u001b[1;32m      7\u001b[0m ])\n",
      "\u001b[0;32m~/.qbraid/environments/tensorflow_uorhf3/pyenv/lib/python3.9/site-packages/tensorflow_quantum/python/layers/high_level/pqc.py\u001b[0m in \u001b[0;36m__init__\u001b[0;34m(self, model_circuit, operators, repetitions, backend, differentiator, initializer, regularizer, constraint, **kwargs)\u001b[0m\n\u001b[1;32m    188\u001b[0m         \u001b[0mself\u001b[0m\u001b[0;34m.\u001b[0m\u001b[0m_symbols\u001b[0m \u001b[0;34m=\u001b[0m \u001b[0mtf\u001b[0m\u001b[0;34m.\u001b[0m\u001b[0mconstant\u001b[0m\u001b[0;34m(\u001b[0m\u001b[0;34m[\u001b[0m\u001b[0mstr\u001b[0m\u001b[0;34m(\u001b[0m\u001b[0mx\u001b[0m\u001b[0;34m)\u001b[0m \u001b[0;32mfor\u001b[0m \u001b[0mx\u001b[0m \u001b[0;32min\u001b[0m \u001b[0mself\u001b[0m\u001b[0;34m.\u001b[0m\u001b[0m_symbols_list\u001b[0m\u001b[0;34m]\u001b[0m\u001b[0;34m)\u001b[0m\u001b[0;34m\u001b[0m\u001b[0;34m\u001b[0m\u001b[0m\n\u001b[1;32m    189\u001b[0m \u001b[0;34m\u001b[0m\u001b[0m\n\u001b[0;32m--> 190\u001b[0;31m         \u001b[0mself\u001b[0m\u001b[0;34m.\u001b[0m\u001b[0m_model_circuit\u001b[0m \u001b[0;34m=\u001b[0m \u001b[0mutil\u001b[0m\u001b[0;34m.\u001b[0m\u001b[0mconvert_to_tensor\u001b[0m\u001b[0;34m(\u001b[0m\u001b[0;34m[\u001b[0m\u001b[0mmodel_circuit\u001b[0m\u001b[0;34m]\u001b[0m\u001b[0;34m)\u001b[0m\u001b[0;34m\u001b[0m\u001b[0;34m\u001b[0m\u001b[0m\n\u001b[0m\u001b[1;32m    191\u001b[0m         \u001b[0;32mif\u001b[0m \u001b[0mlen\u001b[0m\u001b[0;34m(\u001b[0m\u001b[0mself\u001b[0m\u001b[0;34m.\u001b[0m\u001b[0m_symbols_list\u001b[0m\u001b[0;34m)\u001b[0m \u001b[0;34m==\u001b[0m \u001b[0;36m0\u001b[0m\u001b[0;34m:\u001b[0m\u001b[0;34m\u001b[0m\u001b[0;34m\u001b[0m\u001b[0m\n\u001b[1;32m    192\u001b[0m             raise ValueError(\"model_circuit has no sympy.Symbols. Please \"\n",
      "\u001b[0;32m~/.qbraid/environments/tensorflow_uorhf3/pyenv/lib/python3.9/site-packages/tensorflow/python/autograph/impl/api.py\u001b[0m in \u001b[0;36mwrapper\u001b[0;34m(*args, **kwargs)\u001b[0m\n\u001b[1;32m    647\u001b[0m   \u001b[0;32mdef\u001b[0m \u001b[0mwrapper\u001b[0m\u001b[0;34m(\u001b[0m\u001b[0;34m*\u001b[0m\u001b[0margs\u001b[0m\u001b[0;34m,\u001b[0m \u001b[0;34m**\u001b[0m\u001b[0mkwargs\u001b[0m\u001b[0;34m)\u001b[0m\u001b[0;34m:\u001b[0m\u001b[0;34m\u001b[0m\u001b[0;34m\u001b[0m\u001b[0m\n\u001b[1;32m    648\u001b[0m     \u001b[0;32mwith\u001b[0m \u001b[0mag_ctx\u001b[0m\u001b[0;34m.\u001b[0m\u001b[0mControlStatusCtx\u001b[0m\u001b[0;34m(\u001b[0m\u001b[0mstatus\u001b[0m\u001b[0;34m=\u001b[0m\u001b[0mag_ctx\u001b[0m\u001b[0;34m.\u001b[0m\u001b[0mStatus\u001b[0m\u001b[0;34m.\u001b[0m\u001b[0mDISABLED\u001b[0m\u001b[0;34m)\u001b[0m\u001b[0;34m:\u001b[0m\u001b[0;34m\u001b[0m\u001b[0;34m\u001b[0m\u001b[0m\n\u001b[0;32m--> 649\u001b[0;31m       \u001b[0;32mreturn\u001b[0m \u001b[0mfunc\u001b[0m\u001b[0;34m(\u001b[0m\u001b[0;34m*\u001b[0m\u001b[0margs\u001b[0m\u001b[0;34m,\u001b[0m \u001b[0;34m**\u001b[0m\u001b[0mkwargs\u001b[0m\u001b[0;34m)\u001b[0m\u001b[0;34m\u001b[0m\u001b[0;34m\u001b[0m\u001b[0m\n\u001b[0m\u001b[1;32m    650\u001b[0m \u001b[0;34m\u001b[0m\u001b[0m\n\u001b[1;32m    651\u001b[0m   \u001b[0;32mif\u001b[0m \u001b[0minspect\u001b[0m\u001b[0;34m.\u001b[0m\u001b[0misfunction\u001b[0m\u001b[0;34m(\u001b[0m\u001b[0mfunc\u001b[0m\u001b[0;34m)\u001b[0m \u001b[0;32mor\u001b[0m \u001b[0minspect\u001b[0m\u001b[0;34m.\u001b[0m\u001b[0mismethod\u001b[0m\u001b[0;34m(\u001b[0m\u001b[0mfunc\u001b[0m\u001b[0;34m)\u001b[0m\u001b[0;34m:\u001b[0m\u001b[0;34m\u001b[0m\u001b[0;34m\u001b[0m\u001b[0m\n",
      "\u001b[0;32m~/.qbraid/environments/tensorflow_uorhf3/pyenv/lib/python3.9/site-packages/tensorflow_quantum/python/util.py\u001b[0m in \u001b[0;36mconvert_to_tensor\u001b[0;34m(items_to_convert, deterministic_proto_serialize)\u001b[0m\n\u001b[1;32m    331\u001b[0m \u001b[0;34m\u001b[0m\u001b[0m\n\u001b[1;32m    332\u001b[0m     \u001b[0;31m# This will catch impossible dimensions\u001b[0m\u001b[0;34m\u001b[0m\u001b[0;34m\u001b[0m\u001b[0m\n\u001b[0;32m--> 333\u001b[0;31m     \u001b[0;32mreturn\u001b[0m \u001b[0mtf\u001b[0m\u001b[0;34m.\u001b[0m\u001b[0mconvert_to_tensor\u001b[0m\u001b[0;34m(\u001b[0m\u001b[0mrecur\u001b[0m\u001b[0;34m(\u001b[0m\u001b[0mitems_to_convert\u001b[0m\u001b[0;34m)\u001b[0m\u001b[0;34m)\u001b[0m\u001b[0;34m\u001b[0m\u001b[0;34m\u001b[0m\u001b[0m\n\u001b[0m\u001b[1;32m    334\u001b[0m \u001b[0;34m\u001b[0m\u001b[0m\n\u001b[1;32m    335\u001b[0m \u001b[0;34m\u001b[0m\u001b[0m\n",
      "\u001b[0;32m~/.qbraid/environments/tensorflow_uorhf3/pyenv/lib/python3.9/site-packages/tensorflow_quantum/python/util.py\u001b[0m in \u001b[0;36mrecur\u001b[0;34m(items_to_convert, curr_type)\u001b[0m\n\u001b[1;32m    322\u001b[0m                 \u001b[0mcurr_type\u001b[0m \u001b[0;34m=\u001b[0m \u001b[0mcirq\u001b[0m\u001b[0;34m.\u001b[0m\u001b[0mCircuit\u001b[0m\u001b[0;34m\u001b[0m\u001b[0;34m\u001b[0m\u001b[0m\n\u001b[1;32m    323\u001b[0m                 tensored_items.append(\n\u001b[0;32m--> 324\u001b[0;31m                     serializer.serialize_circuit(item).SerializeToString(\n\u001b[0m\u001b[1;32m    325\u001b[0m                         deterministic=deterministic_proto_serialize))\n\u001b[1;32m    326\u001b[0m             \u001b[0;32melse\u001b[0m\u001b[0;34m:\u001b[0m\u001b[0;34m\u001b[0m\u001b[0;34m\u001b[0m\u001b[0m\n",
      "\u001b[0;32m~/.qbraid/environments/tensorflow_uorhf3/pyenv/lib/python3.9/site-packages/tensorflow_quantum/core/serialize/serializer.py\u001b[0m in \u001b[0;36mserialize_circuit\u001b[0;34m(circuit_inp)\u001b[0m\n\u001b[1;32m    870\u001b[0m         ]\n\u001b[1;32m    871\u001b[0m         \u001b[0mnew_ops\u001b[0m \u001b[0;34m=\u001b[0m \u001b[0mdict\u001b[0m\u001b[0;34m(\u001b[0m\u001b[0;34m)\u001b[0m\u001b[0;34m\u001b[0m\u001b[0;34m\u001b[0m\u001b[0m\n\u001b[0;32m--> 872\u001b[0;31m         \u001b[0;32mfor\u001b[0m \u001b[0mop\u001b[0m \u001b[0;32min\u001b[0m \u001b[0mcontrolled_ops\u001b[0m\u001b[0;34m:\u001b[0m\u001b[0;34m\u001b[0m\u001b[0;34m\u001b[0m\u001b[0m\n\u001b[0m\u001b[1;32m    873\u001b[0m             \u001b[0mtfq_compatible\u001b[0m \u001b[0;34m=\u001b[0m \u001b[0mop\u001b[0m\u001b[0;34m.\u001b[0m\u001b[0msub_operation\u001b[0m\u001b[0;34m\u001b[0m\u001b[0;34m\u001b[0m\u001b[0m\n\u001b[1;32m    874\u001b[0m             \u001b[0mtfq_compatible\u001b[0m\u001b[0;34m.\u001b[0m\u001b[0m_tfq_control_qubits\u001b[0m \u001b[0;34m=\u001b[0m \u001b[0mop\u001b[0m\u001b[0;34m.\u001b[0m\u001b[0mcontrols\u001b[0m\u001b[0;34m\u001b[0m\u001b[0;34m\u001b[0m\u001b[0m\n",
      "\u001b[0;32m~/.qbraid/environments/tensorflow_uorhf3/pyenv/lib/python3.9/site-packages/tensorflow_quantum/core/serialize/serializable_gate_set.py\u001b[0m in \u001b[0;36mserialize\u001b[0;34m(self, program, msg, arg_function_language)\u001b[0m\n\u001b[1;32m    128\u001b[0m         \u001b[0mmsg\u001b[0m\u001b[0;34m.\u001b[0m\u001b[0mlanguage\u001b[0m\u001b[0;34m.\u001b[0m\u001b[0mgate_set\u001b[0m \u001b[0;34m=\u001b[0m \u001b[0mself\u001b[0m\u001b[0;34m.\u001b[0m\u001b[0mgate_set_name\u001b[0m\u001b[0;34m\u001b[0m\u001b[0;34m\u001b[0m\u001b[0m\n\u001b[1;32m    129\u001b[0m         \u001b[0;32mif\u001b[0m \u001b[0misinstance\u001b[0m\u001b[0;34m(\u001b[0m\u001b[0mprogram\u001b[0m\u001b[0;34m,\u001b[0m \u001b[0mcirq\u001b[0m\u001b[0;34m.\u001b[0m\u001b[0mCircuit\u001b[0m\u001b[0;34m)\u001b[0m\u001b[0;34m:\u001b[0m\u001b[0;34m\u001b[0m\u001b[0;34m\u001b[0m\u001b[0m\n\u001b[0;32m--> 130\u001b[0;31m             self._serialize_circuit(program,\n\u001b[0m\u001b[1;32m    131\u001b[0m                                     \u001b[0mmsg\u001b[0m\u001b[0;34m.\u001b[0m\u001b[0mcircuit\u001b[0m\u001b[0;34m,\u001b[0m\u001b[0;34m\u001b[0m\u001b[0;34m\u001b[0m\u001b[0m\n\u001b[1;32m    132\u001b[0m                                     arg_function_language=arg_function_language)\n",
      "\u001b[0;32m~/.qbraid/environments/tensorflow_uorhf3/pyenv/lib/python3.9/site-packages/tensorflow_quantum/core/serialize/serializable_gate_set.py\u001b[0m in \u001b[0;36m_serialize_circuit\u001b[0;34m(self, circuit, msg, arg_function_language)\u001b[0m\n\u001b[1;32m    227\u001b[0m             \u001b[0mmoment_proto\u001b[0m \u001b[0;34m=\u001b[0m \u001b[0mmsg\u001b[0m\u001b[0;34m.\u001b[0m\u001b[0mmoments\u001b[0m\u001b[0;34m.\u001b[0m\u001b[0madd\u001b[0m\u001b[0;34m(\u001b[0m\u001b[0;34m)\u001b[0m\u001b[0;34m\u001b[0m\u001b[0;34m\u001b[0m\u001b[0m\n\u001b[1;32m    228\u001b[0m             \u001b[0;32mfor\u001b[0m \u001b[0mop\u001b[0m \u001b[0;32min\u001b[0m \u001b[0mmoment\u001b[0m\u001b[0;34m:\u001b[0m\u001b[0;34m\u001b[0m\u001b[0;34m\u001b[0m\u001b[0m\n\u001b[0;32m--> 229\u001b[0;31m                 self.serialize_op(op,\n\u001b[0m\u001b[1;32m    230\u001b[0m                                   \u001b[0mmoment_proto\u001b[0m\u001b[0;34m.\u001b[0m\u001b[0moperations\u001b[0m\u001b[0;34m.\u001b[0m\u001b[0madd\u001b[0m\u001b[0;34m(\u001b[0m\u001b[0;34m)\u001b[0m\u001b[0;34m,\u001b[0m\u001b[0;34m\u001b[0m\u001b[0;34m\u001b[0m\u001b[0m\n\u001b[1;32m    231\u001b[0m                                   arg_function_language=arg_function_language)\n",
      "\u001b[0;32m~/.qbraid/environments/tensorflow_uorhf3/pyenv/lib/python3.9/site-packages/tensorflow_quantum/core/serialize/serializable_gate_set.py\u001b[0m in \u001b[0;36mserialize_op\u001b[0;34m(self, op, msg, arg_function_language)\u001b[0m\n\u001b[1;32m    166\u001b[0m                     \u001b[0;32mif\u001b[0m \u001b[0mproto_msg\u001b[0m \u001b[0;32mis\u001b[0m \u001b[0;32mnot\u001b[0m \u001b[0;32mNone\u001b[0m\u001b[0;34m:\u001b[0m\u001b[0;34m\u001b[0m\u001b[0;34m\u001b[0m\u001b[0m\n\u001b[1;32m    167\u001b[0m                         \u001b[0;32mreturn\u001b[0m \u001b[0mproto_msg\u001b[0m\u001b[0;34m\u001b[0m\u001b[0;34m\u001b[0m\u001b[0m\n\u001b[0;32m--> 168\u001b[0;31m         raise ValueError('Cannot serialize op {!r} of type {}'.format(\n\u001b[0m\u001b[1;32m    169\u001b[0m             op, gate_type))\n\u001b[1;32m    170\u001b[0m \u001b[0;34m\u001b[0m\u001b[0m\n",
      "\u001b[0;31mValueError\u001b[0m: Cannot serialize op <__main__.RotationGate object at 0x7ff592264400>.on(cirq.GridQubit(0, 1)) of type <class '__main__.RotationGate'>"
     ]
    }
   ],
   "source": [
    "# Build the Keras model.\n",
    "model = tf.keras.Sequential([\n",
    "    # The input is the data-circuit, encoded as a tf.string\n",
    "    tf.keras.layers.Input(shape=(), dtype=tf.string),\n",
    "    # The PQC layer returns the expected value of the readout gate, range [-1,1].\n",
    "    tfq.layers.PQC(model_circuit, model_readout),\n",
    "])\n"
   ]
  },
  {
   "cell_type": "markdown",
   "id": "f28146e2-abaf-483e-b801-22deadd74dbb",
   "metadata": {},
   "source": [
    "## Results"
   ]
  }
 ],
 "metadata": {
  "kernelspec": {
   "display_name": "Python 3 [Tensorflow]",
   "language": "python",
   "name": "python3_tensorflow_uorhf3"
  },
  "language_info": {
   "codemirror_mode": {
    "name": "ipython",
    "version": 3
   },
   "file_extension": ".py",
   "mimetype": "text/x-python",
   "name": "python",
   "nbconvert_exporter": "python",
   "pygments_lexer": "ipython3",
   "version": "3.9.7"
  }
 },
 "nbformat": 4,
 "nbformat_minor": 5
}
